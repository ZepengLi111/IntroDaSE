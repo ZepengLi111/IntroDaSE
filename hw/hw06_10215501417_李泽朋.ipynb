{
 "cells": [
  {
   "cell_type": "markdown",
   "source": [
    "**6.1**"
   ],
   "metadata": {
    "collapsed": false,
    "pycharm": {
     "name": "#%% md\n"
    }
   }
  },
  {
   "cell_type": "code",
   "execution_count": null,
   "outputs": [],
   "source": [
    "with open('./file.txt', 'r') as f1:\n",
    "    print(f1.readline())\n",
    "    print(f1.readlines())\n",
    "    f1.seek(0)\n",
    "    print(f1.readlines())"
   ],
   "metadata": {
    "collapsed": false,
    "pycharm": {
     "name": "#%%\n"
    }
   }
  },
  {
   "cell_type": "markdown",
   "source": [
    "**6.2**"
   ],
   "metadata": {
    "collapsed": false,
    "pycharm": {
     "name": "#%% md\n"
    }
   }
  },
  {
   "cell_type": "code",
   "execution_count": 12,
   "outputs": [
    {
     "name": "stdout",
     "output_type": "stream",
     "text": [
      "82.60 81.00 81.80\n"
     ]
    }
   ],
   "source": [
    "stuGrades = []\n",
    "with open('./stuGrade.csv', 'r') as f1:\n",
    "    f1.readline()\n",
    "    for line in f1:\n",
    "        line = line.strip().split(',')\n",
    "        line = [int(i) for i in line]\n",
    "        stuGrades.append(line)\n",
    "Chinese_average = sum([stuGrades[i][1] for i in range(5)]) / 5\n",
    "math_average = sum([stuGrades[i][2] for i in range(5)]) / 5\n",
    "English_average = sum([stuGrades[i][3] for i in range(5)]) / 5\n",
    "print(\"{:.2f} {:.2f} {:.2f}\".format(Chinese_average, math_average, English_average))"
   ],
   "metadata": {
    "collapsed": false,
    "pycharm": {
     "name": "#%%\n"
    }
   }
  },
  {
   "cell_type": "markdown",
   "source": [
    "**6.3**"
   ],
   "metadata": {
    "collapsed": false,
    "pycharm": {
     "name": "#%% md\n"
    }
   }
  },
  {
   "cell_type": "code",
   "execution_count": 15,
   "outputs": [],
   "source": [
    "import time\n",
    "with open('./my.txt', 'w') as f1:\n",
    "    line1 = '10215501417  李泽朋'\n",
    "    f1.write(line1 + '\\n')\n",
    "    line2 = '{:.2f},{:.2f},{:.2f}'.format(Chinese_average, math_average, English_average)\n",
    "    f1.write(line2 + '\\n')\n",
    "    line3 = time.strftime(\"%Y-%m-%d %H:%M:%S\",time.localtime())\n",
    "    f1.write(line3 + '\\n')\n",
    "    time.sleep(2)\n",
    "    line4 = time.strftime(\"%Y-%m-%d %H:%M:%S\",time.localtime())\n",
    "    f1.write(line4 + '\\n')"
   ],
   "metadata": {
    "collapsed": false,
    "pycharm": {
     "name": "#%%\n"
    }
   }
  }
 ],
 "metadata": {
  "kernelspec": {
   "display_name": "Python 3",
   "language": "python",
   "name": "python3"
  },
  "language_info": {
   "codemirror_mode": {
    "name": "ipython",
    "version": 2
   },
   "file_extension": ".py",
   "mimetype": "text/x-python",
   "name": "python",
   "nbconvert_exporter": "python",
   "pygments_lexer": "ipython2",
   "version": "2.7.6"
  }
 },
 "nbformat": 4,
 "nbformat_minor": 0
}