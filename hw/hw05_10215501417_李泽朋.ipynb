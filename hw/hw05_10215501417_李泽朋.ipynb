{
 "cells": [
  {
   "cell_type": "code",
   "execution_count": 2,
   "metadata": {
    "collapsed": true,
    "pycharm": {
     "name": "#%%\n"
    }
   },
   "outputs": [
    {
     "name": "stdout",
     "output_type": "stream",
     "text": [
      "timer report: bubble_sort took 0.123753200.\n"
     ]
    },
    {
     "data": {
      "text/plain": "0.12375320000000001"
     },
     "execution_count": 2,
     "metadata": {},
     "output_type": "execute_result"
    }
   ],
   "source": [
    "from random import randint\n",
    "def timer(func):\n",
    "    def func_wrapper(*args, **kwargs):\n",
    "        from time import time_ns\n",
    "        t_start = time_ns()\n",
    "        func(*args, **kwargs)\n",
    "        t_end = time_ns()\n",
    "        print(\"timer report: {} took {:.9f}.\".format(func.__name__, (t_end-t_start)*(10**(-9))))\n",
    "        return (t_end-t_start)*(10**(-9))\n",
    "    return func_wrapper\n",
    "\n",
    "# 冒泡排序算法\n",
    "@timer\n",
    "def bubble_sort(num_list):\n",
    "    for i in range(len(num_list)):\n",
    "        for j in range(1, len(num_list) - i):\n",
    "            if num_list[j] < num_list[j-1]:\n",
    "                num_list[j], num_list[j-1] = num_list[j-1], num_list[j]\n",
    "\n",
    "# 测试\n",
    "nums = [randint(-1000, 1000) for i in range(1000)]\n",
    "bubble_sort(nums)"
   ]
  },
  {
   "cell_type": "code",
   "execution_count": 5,
   "outputs": [
    {
     "name": "stdout",
     "output_type": "stream",
     "text": [
      "timer report: bubble_sort took 0.000000000.\n",
      "timer report: quick_sort took 0.000000000.\n",
      "timer report: bubble_sort took 0.111517700.\n",
      "timer report: quick_sort took 0.000000000.\n",
      "timer report: bubble_sort took 0.515426600.\n",
      "timer report: quick_sort took 0.000000000.\n",
      "timer report: bubble_sort took 1.070058000.\n",
      "timer report: quick_sort took 0.016493200.\n",
      "timer report: bubble_sort took 1.752467900.\n",
      "timer report: quick_sort took 0.015779300.\n",
      "timer report: bubble_sort took 2.726664200.\n",
      "timer report: quick_sort took 0.015882200.\n",
      "timer report: bubble_sort took 4.041555100.\n",
      "timer report: quick_sort took 0.016111300.\n",
      "timer report: bubble_sort took 5.531353300.\n",
      "timer report: quick_sort took 0.013497800.\n",
      "timer report: bubble_sort took 7.166699500.\n",
      "timer report: quick_sort took 0.016169900.\n",
      "timer report: bubble_sort took 9.009256400.\n",
      "timer report: quick_sort took 0.031591900.\n"
     ]
    },
    {
     "name": "stderr",
     "output_type": "stream",
     "text": [
      "F:\\developer_use\\anaconda\\lib\\site-packages\\IPython\\core\\pylabtools.py:151: UserWarning: Glyph 25490 (\\N{CJK UNIFIED IDEOGRAPH-6392}) missing from current font.\n",
      "  fig.canvas.print_figure(bytes_io, **kw)\n",
      "F:\\developer_use\\anaconda\\lib\\site-packages\\IPython\\core\\pylabtools.py:151: UserWarning: Glyph 24207 (\\N{CJK UNIFIED IDEOGRAPH-5E8F}) missing from current font.\n",
      "  fig.canvas.print_figure(bytes_io, **kw)\n",
      "F:\\developer_use\\anaconda\\lib\\site-packages\\IPython\\core\\pylabtools.py:151: UserWarning: Glyph 26041 (\\N{CJK UNIFIED IDEOGRAPH-65B9}) missing from current font.\n",
      "  fig.canvas.print_figure(bytes_io, **kw)\n",
      "F:\\developer_use\\anaconda\\lib\\site-packages\\IPython\\core\\pylabtools.py:151: UserWarning: Glyph 27861 (\\N{CJK UNIFIED IDEOGRAPH-6CD5}) missing from current font.\n",
      "  fig.canvas.print_figure(bytes_io, **kw)\n",
      "F:\\developer_use\\anaconda\\lib\\site-packages\\IPython\\core\\pylabtools.py:151: UserWarning: Glyph 26102 (\\N{CJK UNIFIED IDEOGRAPH-65F6}) missing from current font.\n",
      "  fig.canvas.print_figure(bytes_io, **kw)\n",
      "F:\\developer_use\\anaconda\\lib\\site-packages\\IPython\\core\\pylabtools.py:151: UserWarning: Glyph 38388 (\\N{CJK UNIFIED IDEOGRAPH-95F4}) missing from current font.\n",
      "  fig.canvas.print_figure(bytes_io, **kw)\n",
      "F:\\developer_use\\anaconda\\lib\\site-packages\\IPython\\core\\pylabtools.py:151: UserWarning: Glyph 20882 (\\N{CJK UNIFIED IDEOGRAPH-5192}) missing from current font.\n",
      "  fig.canvas.print_figure(bytes_io, **kw)\n",
      "F:\\developer_use\\anaconda\\lib\\site-packages\\IPython\\core\\pylabtools.py:151: UserWarning: Glyph 27873 (\\N{CJK UNIFIED IDEOGRAPH-6CE1}) missing from current font.\n",
      "  fig.canvas.print_figure(bytes_io, **kw)\n",
      "F:\\developer_use\\anaconda\\lib\\site-packages\\IPython\\core\\pylabtools.py:151: UserWarning: Glyph 24555 (\\N{CJK UNIFIED IDEOGRAPH-5FEB}) missing from current font.\n",
      "  fig.canvas.print_figure(bytes_io, **kw)\n",
      "F:\\developer_use\\anaconda\\lib\\site-packages\\IPython\\core\\pylabtools.py:151: UserWarning: Glyph 36895 (\\N{CJK UNIFIED IDEOGRAPH-901F}) missing from current font.\n",
      "  fig.canvas.print_figure(bytes_io, **kw)\n"
     ]
    },
    {
     "data": {
      "text/plain": "<Figure size 432x288 with 1 Axes>",
      "image/png": "[encoded data removed]"
     },
     "metadata": {
      "needs_background": "light"
     },
     "output_type": "display_data"
    }
   ],
   "source": [
    "@timer\n",
    "def quick_sort(num_list):\n",
    "    def quick_sort_func(arr, left, right):\n",
    "        if left >= right:\n",
    "            return\n",
    "        pivot = arr[left]\n",
    "        i = left\n",
    "        j = right\n",
    "        while i < j:\n",
    "            while i < j and arr[j] >= pivot:\n",
    "                j -= 1\n",
    "            arr[i] = arr[j]\n",
    "            while i < j and arr[i] < pivot:\n",
    "                i += 1\n",
    "            arr[j] = arr[i]\n",
    "        arr[i] = pivot\n",
    "        quick_sort_func(arr, left, i-1)\n",
    "        quick_sort_func(arr, i+1, right)\n",
    "    quick_sort_func(num_list, 0, len(num_list)-1)\n",
    "\n",
    "\n",
    "import matplotlib.pyplot as plt          # 利用matplotlib画出两个函数运行时间的折线图，进行分析比较\n",
    "from copy import deepcopy\n",
    "def compare_efficiency(func1, func2):\n",
    "    time_func1 = []\n",
    "    time_func2 = []\n",
    "    size = [i*(10**3) for i in range(20)]\n",
    "    for i in range(len(size)):\n",
    "        nums_array = [randint(-10000, 10000) for j in range(size[i])]\n",
    "        nums_array_copy = deepcopy(nums_array)\n",
    "        time_func1.append(bubble_sort(nums_array))\n",
    "        time_func2.append(quick_sort(nums_array_copy))\n",
    "    plt.plot(size, time_func1)\n",
    "    plt.plot(size, time_func2)\n",
    "    plt.xlabel('排序方法')\n",
    "    plt.ylabel('时间/s')\n",
    "    plt.legend(['冒泡排序', '快速排序'])\n",
    "    plt.show()\n",
    "compare_efficiency(bubble_sort, quick_sort)\n",
    "# 从折线图可以看出冒泡排序时间基本上都比快速排序要快，并且数据量越大，差异越大。还可以看出冒泡排序是以n^2的速度增长的，而快速排序则增长较慢"
   ],
   "metadata": {
    "collapsed": false,
    "pycharm": {
     "name": "#%%\n"
    }
   }
  },
  {
   "cell_type": "code",
   "execution_count": null,
   "outputs": [],
   "source": [],
   "metadata": {
    "collapsed": false,
    "pycharm": {
     "name": "#%%\n"
    }
   }
  }
 ],
 "metadata": {
  "kernelspec": {
   "display_name": "Python 3",
   "language": "python",
   "name": "python3"
  },
  "language_info": {
   "codemirror_mode": {
    "name": "ipython",
    "version": 2
   },
   "file_extension": ".py",
   "mimetype": "text/x-python",
   "name": "python",
   "nbconvert_exporter": "python",
   "pygments_lexer": "ipython2",
   "version": "2.7.6"
  }
 },
 "nbformat": 4,
 "nbformat_minor": 0
}