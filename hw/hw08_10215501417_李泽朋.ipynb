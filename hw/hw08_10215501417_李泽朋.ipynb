{
 "cells": [
  {
   "cell_type": "code",
   "execution_count": 2,
   "metadata": {
    "collapsed": true,
    "pycharm": {
     "name": "#%%\n"
    }
   },
   "outputs": [
    {
     "name": "stdout",
     "output_type": "stream",
     "text": [
      "('5.7.18-20170830-log',)\n"
     ]
    }
   ],
   "source": [
    "import pymysql\n",
    "db = pymysql.connect(host= \"cdb-r2g8flnu.bj.tencentcdb.com\", port=10209, user=\"dase2020\", password=\"dase2020\", database=\"dase_intro_2020\")\n",
    "cursor = db.cursor()\n",
    "sql = \"SELECT VERSION();\"\n",
    "cursor.execute(sql)\n",
    "result = cursor.fetchone()\n",
    "print(result)"
   ]
  },
  {
   "cell_type": "code",
   "execution_count": 5,
   "outputs": [
    {
     "name": "stdout",
     "output_type": "stream",
     "text": [
      "((18, 1, 17, 1, 8, 4, 1, 2, 75), (19, 1, 1, 1, 18, 19, 1, 3, 5), (20, 1, 7, 0, 23, 25, 2, 1, 13), (21, 0, 9, 0, 25, 27, 1, 0, 67), (22, 0, 16, 1, 11, 11, 3, 2, 76))\n"
     ]
    }
   ],
   "source": [
    "#  lab08-1\n",
    "sql1 = \"SELECT * FROM bicycle_train LIMIT 17,5\"\n",
    "cursor.execute(sql1)\n",
    "result1 = cursor.fetchall()\n",
    "print(result1)"
   ],
   "metadata": {
    "collapsed": false,
    "pycharm": {
     "name": "#%%\n"
    }
   }
  },
  {
   "cell_type": "code",
   "execution_count": 12,
   "outputs": [
    {
     "name": "stdout",
     "output_type": "stream",
     "text": [
      "风力范围是：0--7\n"
     ]
    }
   ],
   "source": [
    "# lab08-2\n",
    "\n",
    "sql2_1 = \"SELECT MAX(wind) FROM bicycle_train \"\n",
    "sql2_2 = \"SELECT MIN(wind) FROM bicycle_train \"\n",
    "cursor.execute(sql2_1)\n",
    "result2_1 = cursor.fetchone()\n",
    "cursor.execute(sql2_2)\n",
    "result2_2 = cursor.fetchone()\n",
    "print(\"风级范围是：{}--{}\".format(result2_2[0], result2_1[0]))"
   ],
   "metadata": {
    "collapsed": false,
    "pycharm": {
     "name": "#%%\n"
    }
   }
  },
  {
   "cell_type": "code",
   "execution_count": 4,
   "outputs": [
    {
     "name": "stdout",
     "output_type": "stream",
     "text": [
      "20.6\n"
     ]
    }
   ],
   "source": [
    "# lab08-3\n",
    "\n",
    "sql3 = \"SELECT AVG(temp_air) FROM bicycle_train where city=0 AND hour=10 AND weather=1 AND (wind=0 OR wind=1) AND y >= 100\"\n",
    "cursor.execute(sql3)\n",
    "result3 = cursor.fetchone()\n",
    "print(float(result3[0]))"
   ],
   "metadata": {
    "collapsed": false,
    "pycharm": {
     "name": "#%%\n"
    }
   }
  },
  {
   "cell_type": "code",
   "execution_count": 8,
   "outputs": [
    {
     "name": "stdout",
     "output_type": "stream",
     "text": [
      "37.64\n"
     ]
    }
   ],
   "source": [
    "# lab08-4\n",
    "\n",
    "sql4 = \"SELECT temp_air FROM bicycle_train where city=0 AND hour=10 AND weather=1 AND (wind=0 OR wind=1) AND y >= 100\"\n",
    "cursor.execute(sql4)\n",
    "result4 = cursor.fetchall()\n",
    "var = sum((i[0] - float(result3[0]))**2 for i in result4) / len(result4)\n",
    "print(var)"
   ],
   "metadata": {
    "collapsed": false,
    "pycharm": {
     "name": "#%%\n"
    }
   }
  },
  {
   "cell_type": "code",
   "execution_count": 10,
   "outputs": [
    {
     "name": "stdout",
     "output_type": "stream",
     "text": [
      "上海为9106。北京为8084\n"
     ]
    }
   ],
   "source": [
    "# lab08-5\n",
    "\n",
    "sql5 = \"SELECT city, SUM(y) FROM bicycle_train where is_workday=1 AND weather=3 GROUP BY city ORDER BY SUM(y) DESC \"\n",
    "cursor.execute(sql5)\n",
    "result5 = cursor.fetchall()\n",
    "print(result5)\n",
    "print(\"上海为{}。北京为{}\".format(result5[0][1], result5[1][1]))"
   ],
   "metadata": {
    "collapsed": false,
    "pycharm": {
     "name": "#%%\n"
    }
   }
  },
  {
   "cell_type": "code",
   "execution_count": 16,
   "outputs": [
    {
     "name": "stdout",
     "output_type": "stream",
     "text": [
      "((19, Decimal('42')), (18, Decimal('63')), (17, Decimal('65')))\n",
      "19时42辆, 18时63辆, 17时65辆\n"
     ]
    }
   ],
   "source": [
    "# lab08-6\n",
    "\n",
    "sql6 = \"SELECT hour, ROUND(AVG(y)) FROM bicycle_train where is_workday=1 AND temp_body<=10 AND hour>=17 AND hour<=19 AND city=1 GROUP BY hour ORDER BY AVG(y)\"\n",
    "cursor.execute(sql6)\n",
    "result6 = cursor.fetchall()\n",
    "print(result6)\n",
    "print(\"{}时{}辆, {}时{}辆, {}时{}辆\".format(result6[0][0], result6[0][1], result6[1][0], result6[1][1], result6[2][0], result6[2][1]))"
   ],
   "metadata": {
    "collapsed": false,
    "pycharm": {
     "name": "#%%\n"
    }
   }
  }
 ],
 "metadata": {
  "kernelspec": {
   "display_name": "Python 3",
   "language": "python",
   "name": "python3"
  },
  "language_info": {
   "codemirror_mode": {
    "name": "ipython",
    "version": 2
   },
   "file_extension": ".py",
   "mimetype": "text/x-python",
   "name": "python",
   "nbconvert_exporter": "python",
   "pygments_lexer": "ipython2",
   "version": "2.7.6"
  }
 },
 "nbformat": 4,
 "nbformat_minor": 0
}