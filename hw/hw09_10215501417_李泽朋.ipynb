{
 "cells": [
  {
   "cell_type": "code",
   "execution_count": 201,
   "metadata": {
    "collapsed": true,
    "pycharm": {
     "name": "#%%\n"
    }
   },
   "outputs": [
    {
     "name": "stdout",
     "output_type": "stream",
     "text": [
      "('5.7.18-20170830-log',)\n"
     ]
    }
   ],
   "source": [
    "import pymysql\n",
    "db = pymysql.connect(host= \"cdb-r2g8flnu.bj.tencentcdb.com\", port=10209, user=\"dase2020\", password=\"dase2020\", database=\"dase_intro_2020\")\n",
    "cursor = db.cursor()\n",
    "sql = \"SELECT VERSION();\"\n",
    "cursor.execute(sql)\n",
    "result = cursor.fetchone()\n",
    "print(result)"
   ]
  },
  {
   "cell_type": "code",
   "execution_count": 202,
   "outputs": [],
   "source": [
    "# lab9-1\n",
    "sql = 'SELECT * FROM SH_Grade'\n",
    "cursor.execute(sql)\n",
    "result1 = cursor.fetchall()\n",
    "sql2 = 'SELECT COLUMN_NAME FROM information_schema.COLUMNS where table_name = \"SH_Grade\"'\n",
    "cursor.execute(sql2)\n",
    "result2 = cursor.fetchall()"
   ],
   "metadata": {
    "collapsed": false,
    "pycharm": {
     "name": "#%%\n"
    }
   }
  },
  {
   "cell_type": "code",
   "execution_count": 203,
   "outputs": [],
   "source": [
    "import csv\n",
    "columns_name  = [i[0] for i in result2]\n",
    "columns_name.insert(1, 'Class')\n",
    "\n",
    "with open('SH_Grade.csv', 'w', newline='') as f:\n",
    "    writer = csv.writer(f)\n",
    "    writer.writerow(columns_name)\n",
    "    for stu in result1:\n",
    "        stu = list(stu)\n",
    "        if stu[1] is not None:\n",
    "            stu.insert(1, stu[1][0])\n",
    "        else :\n",
    "            stu.insert(1, None)\n",
    "        writer.writerow(stu)"
   ],
   "metadata": {
    "collapsed": false,
    "pycharm": {
     "name": "#%%\n"
    }
   }
  },
  {
   "cell_type": "code",
   "execution_count": 204,
   "outputs": [
    {
     "name": "stdout",
     "output_type": "stream",
     "text": [
      "252\n",
      "243\n"
     ]
    }
   ],
   "source": [
    "# lab9-2 数据预处理1\n",
    "import pandas as pd\n",
    "data = pd.read_csv('SH_Grade.csv')\n",
    "print(data.shape[0])\n",
    "data = data.drop_duplicates(subset=['StuId'])\n",
    "print(data.shape[0])"
   ],
   "metadata": {
    "collapsed": false,
    "pycharm": {
     "name": "#%%\n"
    }
   }
  },
  {
   "cell_type": "code",
   "execution_count": 205,
   "outputs": [
    {
     "name": "stdout",
     "output_type": "stream",
     "text": [
      "189\n"
     ]
    }
   ],
   "source": [
    "# lab9-3 数据预处理2\n",
    "data = data.dropna(thresh=data.shape[1]-11)\n",
    "print(data.shape[0])"
   ],
   "metadata": {
    "collapsed": false,
    "pycharm": {
     "name": "#%%\n"
    }
   }
  },
  {
   "cell_type": "code",
   "execution_count": 206,
   "outputs": [],
   "source": [
    "# lab9-4 数据预处理3\n",
    "data['Sex'] = data['Sex'].fillna(method='ffill')\n",
    "# 获得所有的考试列索引\n",
    "grade_columns_name = data.columns[4:]\n",
    "for i in grade_columns_name:\n",
    "    data[i] = data[i].fillna(data[i].median())"
   ],
   "metadata": {
    "collapsed": false,
    "pycharm": {
     "name": "#%%\n"
    }
   }
  },
  {
   "cell_type": "code",
   "execution_count": 207,
   "outputs": [
    {
     "data": {
      "text/plain": "               id      CHI611     MATH611      ENG611      CHI612     MATH612  \\\ncount  189.000000  189.000000  189.000000  189.000000  189.000000  189.000000   \nmean   115.095238   73.746032   82.656085   80.386243   74.936508   80.735450   \nstd     68.653241    7.322295   16.521206   13.744013    9.180008   17.737863   \nmin      1.000000   41.000000   12.000000   34.000000   25.000000    9.000000   \n25%     57.000000   70.000000   76.000000   72.000000   71.000000   75.000000   \n50%    114.000000   75.000000   86.000000   85.000000   77.000000   86.000000   \n75%    170.000000   79.000000   95.000000   90.000000   81.000000   93.000000   \nmax    243.000000   88.000000  100.000000   99.000000   89.000000  100.000000   \n\n           ENG612      CHI621     MATH621      ENG621  ...      CHI912  \\\ncount  189.000000  189.000000  189.000000  189.000000  ...  189.000000   \nmean    81.497354   76.158730   82.679894   80.724868  ...   77.356261   \nstd     13.740615    9.015719   16.260084   15.312992  ...    8.257889   \nmin     45.000000   48.000000   10.000000   33.000000  ...   46.000000   \n25%     74.000000   72.000000   78.000000   71.000000  ...   74.000000   \n50%     85.000000   77.000000   87.500000   86.000000  ...   79.000000   \n75%     92.000000   83.000000   94.000000   92.000000  ...   82.666667   \nmax    100.000000   93.000000  100.000000  100.000000  ...   92.666667   \n\n          MATH912      ENG912      PHY912      CHE912      CHI921     MATH921  \\\ncount  189.000000  189.000000  189.000000  189.000000  189.000000  189.000000   \nmean    80.074074   79.307760   77.613757   80.751323   74.707231   77.481481   \nstd     20.675168   18.076107   16.697370   17.591601    9.588711   18.997491   \nmin      5.333333   15.333333   13.000000   15.000000   36.000000    6.666667   \n25%     78.000000   74.333333   68.000000   76.000000   70.666667   72.666667   \n50%     87.333333   86.833333   83.000000   86.000000   77.000000   82.666667   \n75%     92.000000   91.666667   90.000000   93.000000   80.666667   90.000000   \nmax    100.000000   98.333333   98.000000   98.000000   89.333333  100.000000   \n\n           ENG921      PHY921      CHE921  \ncount  189.000000  189.000000  189.000000  \nmean    82.405644   81.416814   77.354497  \nstd     16.172900   17.491732   18.302605  \nmin     13.333333   17.777778    6.666667  \n25%     79.666667   75.555556   71.666667  \n50%     88.666667   87.777778   83.333333  \n75%     92.333333   93.333333   90.000000  \nmax     98.333333  100.000000   96.666667  \n\n[8 rows x 56 columns]",
      "text/html": "<div>\n<style scoped>\n    .dataframe tbody tr th:only-of-type {\n        vertical-align: middle;\n    }\n\n    .dataframe tbody tr th {\n        vertical-align: top;\n    }\n\n    .dataframe thead th {\n        text-align: right;\n    }\n</style>\n<table border=\"1\" class=\"dataframe\">\n  <thead>\n    <tr style=\"text-align: right;\">\n      <th></th>\n      <th>id</th>\n      <th>CHI611</th>\n      <th>MATH611</th>\n      <th>ENG611</th>\n      <th>CHI612</th>\n      <th>MATH612</th>\n      <th>ENG612</th>\n      <th>CHI621</th>\n      <th>MATH621</th>\n      <th>ENG621</th>\n      <th>...</th>\n      <th>CHI912</th>\n      <th>MATH912</th>\n      <th>ENG912</th>\n      <th>PHY912</th>\n      <th>CHE912</th>\n      <th>CHI921</th>\n      <th>MATH921</th>\n      <th>ENG921</th>\n      <th>PHY921</th>\n      <th>CHE921</th>\n    </tr>\n  </thead>\n  <tbody>\n    <tr>\n      <th>count</th>\n      <td>189.000000</td>\n      <td>189.000000</td>\n      <td>189.000000</td>\n      <td>189.000000</td>\n      <td>189.000000</td>\n      <td>189.000000</td>\n      <td>189.000000</td>\n      <td>189.000000</td>\n      <td>189.000000</td>\n      <td>189.000000</td>\n      <td>...</td>\n      <td>189.000000</td>\n      <td>189.000000</td>\n      <td>189.000000</td>\n      <td>189.000000</td>\n      <td>189.000000</td>\n      <td>189.000000</td>\n      <td>189.000000</td>\n      <td>189.000000</td>\n      <td>189.000000</td>\n      <td>189.000000</td>\n    </tr>\n    <tr>\n      <th>mean</th>\n      <td>115.095238</td>\n      <td>73.746032</td>\n      <td>82.656085</td>\n      <td>80.386243</td>\n      <td>74.936508</td>\n      <td>80.735450</td>\n      <td>81.497354</td>\n      <td>76.158730</td>\n      <td>82.679894</td>\n      <td>80.724868</td>\n      <td>...</td>\n      <td>77.356261</td>\n      <td>80.074074</td>\n      <td>79.307760</td>\n      <td>77.613757</td>\n      <td>80.751323</td>\n      <td>74.707231</td>\n      <td>77.481481</td>\n      <td>82.405644</td>\n      <td>81.416814</td>\n      <td>77.354497</td>\n    </tr>\n    <tr>\n      <th>std</th>\n      <td>68.653241</td>\n      <td>7.322295</td>\n      <td>16.521206</td>\n      <td>13.744013</td>\n      <td>9.180008</td>\n      <td>17.737863</td>\n      <td>13.740615</td>\n      <td>9.015719</td>\n      <td>16.260084</td>\n      <td>15.312992</td>\n      <td>...</td>\n      <td>8.257889</td>\n      <td>20.675168</td>\n      <td>18.076107</td>\n      <td>16.697370</td>\n      <td>17.591601</td>\n      <td>9.588711</td>\n      <td>18.997491</td>\n      <td>16.172900</td>\n      <td>17.491732</td>\n      <td>18.302605</td>\n    </tr>\n    <tr>\n      <th>min</th>\n      <td>1.000000</td>\n      <td>41.000000</td>\n      <td>12.000000</td>\n      <td>34.000000</td>\n      <td>25.000000</td>\n      <td>9.000000</td>\n      <td>45.000000</td>\n      <td>48.000000</td>\n      <td>10.000000</td>\n      <td>33.000000</td>\n      <td>...</td>\n      <td>46.000000</td>\n      <td>5.333333</td>\n      <td>15.333333</td>\n      <td>13.000000</td>\n      <td>15.000000</td>\n      <td>36.000000</td>\n      <td>6.666667</td>\n      <td>13.333333</td>\n      <td>17.777778</td>\n      <td>6.666667</td>\n    </tr>\n    <tr>\n      <th>25%</th>\n      <td>57.000000</td>\n      <td>70.000000</td>\n      <td>76.000000</td>\n      <td>72.000000</td>\n      <td>71.000000</td>\n      <td>75.000000</td>\n      <td>74.000000</td>\n      <td>72.000000</td>\n      <td>78.000000</td>\n      <td>71.000000</td>\n      <td>...</td>\n      <td>74.000000</td>\n      <td>78.000000</td>\n      <td>74.333333</td>\n      <td>68.000000</td>\n      <td>76.000000</td>\n      <td>70.666667</td>\n      <td>72.666667</td>\n      <td>79.666667</td>\n      <td>75.555556</td>\n      <td>71.666667</td>\n    </tr>\n    <tr>\n      <th>50%</th>\n      <td>114.000000</td>\n      <td>75.000000</td>\n      <td>86.000000</td>\n      <td>85.000000</td>\n      <td>77.000000</td>\n      <td>86.000000</td>\n      <td>85.000000</td>\n      <td>77.000000</td>\n      <td>87.500000</td>\n      <td>86.000000</td>\n      <td>...</td>\n      <td>79.000000</td>\n      <td>87.333333</td>\n      <td>86.833333</td>\n      <td>83.000000</td>\n      <td>86.000000</td>\n      <td>77.000000</td>\n      <td>82.666667</td>\n      <td>88.666667</td>\n      <td>87.777778</td>\n      <td>83.333333</td>\n    </tr>\n    <tr>\n      <th>75%</th>\n      <td>170.000000</td>\n      <td>79.000000</td>\n      <td>95.000000</td>\n      <td>90.000000</td>\n      <td>81.000000</td>\n      <td>93.000000</td>\n      <td>92.000000</td>\n      <td>83.000000</td>\n      <td>94.000000</td>\n      <td>92.000000</td>\n      <td>...</td>\n      <td>82.666667</td>\n      <td>92.000000</td>\n      <td>91.666667</td>\n      <td>90.000000</td>\n      <td>93.000000</td>\n      <td>80.666667</td>\n      <td>90.000000</td>\n      <td>92.333333</td>\n      <td>93.333333</td>\n      <td>90.000000</td>\n    </tr>\n    <tr>\n      <th>max</th>\n      <td>243.000000</td>\n      <td>88.000000</td>\n      <td>100.000000</td>\n      <td>99.000000</td>\n      <td>89.000000</td>\n      <td>100.000000</td>\n      <td>100.000000</td>\n      <td>93.000000</td>\n      <td>100.000000</td>\n      <td>100.000000</td>\n      <td>...</td>\n      <td>92.666667</td>\n      <td>100.000000</td>\n      <td>98.333333</td>\n      <td>98.000000</td>\n      <td>98.000000</td>\n      <td>89.333333</td>\n      <td>100.000000</td>\n      <td>98.333333</td>\n      <td>100.000000</td>\n      <td>96.666667</td>\n    </tr>\n  </tbody>\n</table>\n<p>8 rows × 56 columns</p>\n</div>"
     },
     "execution_count": 207,
     "metadata": {},
     "output_type": "execute_result"
    }
   ],
   "source": [
    "# lab9-5 数据预处理5\n",
    "# 用上一个cell的grade_columns_name\n",
    "# 利用分类找出非百分制，并且替换为百分制\n",
    "for i in grade_columns_name:\n",
    "    if data[i].max() <= 60:\n",
    "        data[i] = data[i]/60 * 100\n",
    "    elif data[i].max() <= 90 and i[0:3] == 'PHY':\n",
    "        data[i] = data[i]/90 * 100\n",
    "    elif data[i].max() > 120:\n",
    "        data[i] = data[i]/150 * 100\n",
    "    elif data[i].max() > 100:\n",
    "        data[i] = data[i]/120 * 100\n",
    "data.describe()"
   ],
   "metadata": {
    "collapsed": false,
    "pycharm": {
     "name": "#%%\n"
    }
   }
  },
  {
   "cell_type": "code",
   "execution_count": 208,
   "outputs": [
    {
     "data": {
      "text/plain": "<Figure size 432x288 with 1 Axes>",
      "image/png": "[encoded data removed]"
     },
     "metadata": {
      "needs_background": "light"
     },
     "output_type": "display_data"
    }
   ],
   "source": [
    "# lab9-6 数据分析与可视化1\n",
    "import matplotlib.pyplot as plt\n",
    "class_female = data.loc[data['Sex'] == 'F'].groupby('Class')['Class'].count()\n",
    "class_male = data.loc[data['Sex'] == 'M'].groupby('Class')['Class'].count()\n",
    "plt.bar(class_female.index, class_female.values, tick_label=['1班', '2班', '3班', '4班', '5班', '6班', '7班'], label='female')\n",
    "plt.bar(class_male.index, class_male.values, tick_label=['1班', '2班', '3班', '4班', '5班', '6班', '7班'], label='male', bottom=class_female.values)\n",
    "plt.rcParams[\"font.sans-serif\"]=[\"SimHei\"]\n",
    "plt.legend()\n",
    "plt.show()"
   ],
   "metadata": {
    "collapsed": false,
    "pycharm": {
     "name": "#%%\n"
    }
   }
  },
  {
   "cell_type": "code",
   "execution_count": 209,
   "outputs": [
    {
     "data": {
      "text/plain": "<Figure size 432x288 with 1 Axes>",
      "image/png": "[encoded data removed]"
     },
     "metadata": {
      "needs_background": "light"
     },
     "output_type": "display_data"
    }
   ],
   "source": [
    "# lab9-7 数据分析与可视化2\n",
    "A13 = data.loc[data['StuId'] == 'A13'].iloc[:, 4:]\n",
    "A15 = data.loc[data['StuId'] == 'A15'].iloc[:, 4:]\n",
    "A13_CHI = []\n",
    "A15_CHI = []\n",
    "for i in A13.columns:\n",
    "    if i[0:3] == 'CHI':\n",
    "        A13_CHI.append(A13[i].iloc[0])\n",
    "for i in A15.columns:\n",
    "    if i[0:3] == 'CHI':\n",
    "        A15_CHI.append(A15[i].iloc[0])\n",
    "\n",
    "CHI = ['611', '612', '621', '622', '711', '712', '721', '722', '811', '812', '821', '822', '911', '912', '921']\n",
    "plt.plot(CHI, A13_CHI, label='A13')\n",
    "plt.plot(CHI, A15_CHI, label='A15')\n",
    "for x1, y1 in zip(CHI, A13_CHI):\n",
    "    plt.text(x1, y1, str(round(y1)), ha='center', va='bottom', fontsize=10)\n",
    "for x1, y1 in zip(CHI, A15_CHI):\n",
    "    plt.text(x1, y1, str(round(y1)), ha='center', va='bottom', fontsize=10)\n",
    "plt.legend()\n",
    "plt.xlabel('考次编号')\n",
    "plt.ylabel('百分制成绩')\n",
    "plt.show()"
   ],
   "metadata": {
    "collapsed": false,
    "pycharm": {
     "name": "#%%\n"
    }
   }
  },
  {
   "cell_type": "code",
   "execution_count": 210,
   "outputs": [
    {
     "name": "stdout",
     "output_type": "stream",
     "text": [
      "    StuId Class  ENG721  CHI721\n",
      "57    B17     B    30.0    42.0\n",
      "176   E26     E    26.0    53.0\n",
      "178   E28     E    36.0    48.0\n",
      "180   E30     E    34.0    48.0\n",
      "193   F11     F    34.0    50.0\n",
      "200   F18     F    53.0    58.0\n",
      "226   G14     G    52.0    48.0\n"
     ]
    }
   ],
   "source": [
    "# lab9-8 数据分析3\n",
    "data8 = data.loc[(data['ENG721'] < 60) & (data['CHI721'] < 60)]\n",
    "data8 = pd.DataFrame(data8, columns=['StuId', 'Class', 'ENG721', 'CHI721'])\n",
    "# data8_2 储存着学生编号、班级、英语成绩、语文成绩。\n",
    "print(data8)"
   ],
   "metadata": {
    "collapsed": false,
    "pycharm": {
     "name": "#%%\n"
    }
   }
  },
  {
   "cell_type": "code",
   "execution_count": 211,
   "outputs": [
    {
     "name": "stdout",
     "output_type": "stream",
     "text": [
      "平均分：\n",
      "A：80.6, 91.4, 86.6\n",
      "C：77.9, 90.5, 87.0\n",
      "方差：\n",
      "A：33.1, 19.5, 39.4\n",
      "C：32.3, 35.6, 74.4\n"
     ]
    }
   ],
   "source": [
    "# lab9-9 数据分析4\n",
    "suj_columns = data.columns[13:16]\n",
    "data9 = data.groupby('Class').mean()\n",
    "data9_2 = data.groupby('Class').var()\n",
    "dataA_mean = data9.iloc[0, 13:16]\n",
    "dataA_var = data9_2.iloc[0, 13:16]\n",
    "dataB_mean = data9.iloc[2, 13:16]\n",
    "dataB_var = data9_2.iloc[2, 13:16]\n",
    "print(\"平均分：\\n\"\n",
    "      \"A：{:.1f}, {:.1f}, {:.1f}\\n\"\n",
    "      \"C：{:.1f}, {:.1f}, {:.1f}\".format(dataA_mean[0], dataA_mean[1], dataA_mean[2], dataB_mean[0], dataB_mean[1], dataB_mean[2]))\n",
    "print(\"方差：\\n\"\n",
    "      \"A：{:.1f}, {:.1f}, {:.1f}\\n\"\n",
    "      \"C：{:.1f}, {:.1f}, {:.1f}\".format(dataA_var[0], dataA_var[1], dataA_var[2], dataB_var[0], dataB_var[1], dataB_var[2]))\n",
    "# 语文A班平均分高一点，方差两个班差距不大\n",
    "# 数学A班平均分高一点点，并且方差更小，各个学生成绩差异小\n",
    "# 英语A班平局分低一点，但是方差小很多，C班方差很大，各个学生之间差异很大"
   ],
   "metadata": {
    "collapsed": false,
    "pycharm": {
     "name": "#%%\n"
    }
   }
  },
  {
   "cell_type": "code",
   "execution_count": 213,
   "outputs": [],
   "source": [
    "# lab9-10 数据存储\n",
    "data8.to_csv('task8.csv', index=0)"
   ],
   "metadata": {
    "collapsed": false,
    "pycharm": {
     "name": "#%%\n"
    }
   }
  }
 ],
 "metadata": {
  "kernelspec": {
   "display_name": "Python 3",
   "language": "python",
   "name": "python3"
  },
  "language_info": {
   "codemirror_mode": {
    "name": "ipython",
    "version": 2
   },
   "file_extension": ".py",
   "mimetype": "text/x-python",
   "name": "python",
   "nbconvert_exporter": "python",
   "pygments_lexer": "ipython2",
   "version": "2.7.6"
  }
 },
 "nbformat": 4,
 "nbformat_minor": 0
}