{
 "cells": [
  {
   "cell_type": "markdown",
   "source": [
    "#### 遍历练习"
   ],
   "metadata": {
    "collapsed": false,
    "pycharm": {
     "name": "#%% md\n"
    }
   }
  },
  {
   "cell_type": "code",
   "execution_count": 40,
   "outputs": [
    {
     "name": "stdout",
     "output_type": "stream",
     "text": [
      "1\n",
      "3\n",
      "5\n",
      "7\n",
      "9\n",
      "11\n",
      "13\n",
      "15\n",
      "17\n",
      "19\n",
      "21\n",
      "23\n",
      "25\n",
      "27\n",
      "29\n",
      "31\n",
      "33\n",
      "35\n",
      "37\n",
      "39\n",
      "41\n",
      "43\n",
      "45\n",
      "47\n",
      "49\n",
      "51\n",
      "53\n",
      "55\n",
      "57\n",
      "59\n",
      "61\n",
      "63\n",
      "65\n",
      "67\n",
      "69\n",
      "71\n",
      "73\n",
      "75\n",
      "77\n",
      "79\n",
      "81\n",
      "83\n",
      "85\n",
      "87\n",
      "89\n",
      "91\n",
      "93\n",
      "95\n",
      "97\n",
      "99\n",
      "58435841445947272053455474390625\n"
     ]
    }
   ],
   "source": [
    "from functools import reduce\n",
    "for i in range(1, 100, 2):\n",
    "    print(i)\n",
    "print(reduce(lambda x,y:x*y, range(1, 50, 2)))"
   ],
   "metadata": {
    "collapsed": false,
    "pycharm": {
     "name": "#%%\n"
    }
   }
  },
  {
   "cell_type": "markdown",
   "source": [
    "#### 循环练习"
   ],
   "metadata": {
    "collapsed": false,
    "pycharm": {
     "name": "#%% md\n"
    }
   }
  },
  {
   "cell_type": "code",
   "execution_count": 10,
   "outputs": [
    {
     "name": "stdout",
     "output_type": "stream",
     "text": [
      "[5, 4, 3, 2, 1]\n",
      "5\n",
      "4\n",
      "3\n",
      "2\n",
      "1\n",
      "5\n",
      "4\n",
      "3\n",
      "2\n",
      "1\n"
     ]
    }
   ],
   "source": [
    "I = list(range(1, 6))\n",
    "print(I[::-1])\n",
    "I.reverse()\n",
    "for i in range(0, 5):\n",
    "    print(I[i])\n",
    "i = 0\n",
    "while i < 5:\n",
    "    print(I[i])\n",
    "    i += 1"
   ],
   "metadata": {
    "collapsed": false,
    "pycharm": {
     "name": "#%%\n"
    }
   }
  },
  {
   "cell_type": "markdown",
   "source": [
    "#### 字符串练习1"
   ],
   "metadata": {
    "collapsed": false,
    "pycharm": {
     "name": "#%% md\n"
    }
   }
  },
  {
   "cell_type": "code",
   "execution_count": 32,
   "outputs": [
    {
     "name": "stdout",
     "output_type": "stream",
     "text": [
      "5 a\n"
     ]
    }
   ],
   "source": [
    "Str = input('请输入字符串：')\n",
    "last = None\n",
    "count = 1\n",
    "max_number = 1\n",
    "char = None\n",
    "for i in Str:\n",
    "    if i == last:\n",
    "        count += 1\n",
    "    else:\n",
    "        max_number = max(count, max_number)\n",
    "        count = 1\n",
    "        char = last\n",
    "    last = i\n",
    "if count > max_number:\n",
    "    char = last\n",
    "    max_number = max(count, max_number)\n",
    "print(max_number, char)"
   ],
   "metadata": {
    "collapsed": false,
    "pycharm": {
     "name": "#%%\n"
    }
   }
  },
  {
   "cell_type": "markdown",
   "source": [
    "#### 字符串练习2"
   ],
   "metadata": {
    "collapsed": false,
    "pycharm": {
     "name": "#%% md\n"
    }
   }
  },
  {
   "cell_type": "code",
   "execution_count": 1,
   "outputs": [
    {
     "name": "stdout",
     "output_type": "stream",
     "text": [
      "\n"
     ]
    }
   ],
   "source": [
    "Str = input('请输入字符串：')\n",
    "print(Str.replace(' ', ''))"
   ],
   "metadata": {
    "collapsed": false,
    "pycharm": {
     "name": "#%%\n"
    }
   }
  },
  {
   "cell_type": "markdown",
   "source": [
    "#### 蒙特卡罗求定积分"
   ],
   "metadata": {
    "collapsed": false,
    "pycharm": {
     "name": "#%% md\n"
    }
   }
  },
  {
   "cell_type": "code",
   "execution_count": 41,
   "outputs": [
    {
     "name": "stdout",
     "output_type": "stream",
     "text": [
      "0.5878\n"
     ]
    }
   ],
   "source": [
    "from random import random\n",
    "count = 0\n",
    "for i in range(0, 10000):\n",
    "    x = random()\n",
    "    y = x**3 + x**2\n",
    "    # print(x*2)\n",
    "    if y >= random()*2:\n",
    "        count += 1\n",
    "print(count/10000 * 2)"
   ],
   "metadata": {
    "collapsed": false,
    "pycharm": {
     "name": "#%%\n"
    }
   }
  },
  {
   "cell_type": "markdown",
   "source": [
    "#### 求sqrt(2)的近似值"
   ],
   "metadata": {
    "collapsed": false,
    "pycharm": {
     "name": "#%% md\n"
    }
   }
  },
  {
   "cell_type": "code",
   "execution_count": 20,
   "outputs": [
    {
     "name": "stdout",
     "output_type": "stream",
     "text": [
      "1.4142135968022693\n"
     ]
    }
   ],
   "source": [
    "# 输入的 number 均为要求数的平方\n",
    "# 1\n",
    "import math\n",
    "def narrow(estimator, number, increment):\n",
    "    while estimator**2 < number:\n",
    "        estimator += increment\n",
    "    return estimator-increment\n",
    "def method_1(number, precision=0.0000001):\n",
    "    now_precision = 10\n",
    "    estimator = 0\n",
    "    while now_precision >= precision:\n",
    "        now_precision /= 10\n",
    "        estimator = narrow(estimator, number, now_precision)\n",
    "    return estimator\n",
    "\n",
    "# 2\n",
    "def method_2(number, precision=0.0000001):\n",
    "    estimator = 0\n",
    "    min_es = 0\n",
    "    max_es = number\n",
    "    while abs(estimator**2 - number) >= precision:\n",
    "        estimator = (max_es + min_es) / 2\n",
    "        if estimator**2 - number > 0:\n",
    "            max_es = estimator\n",
    "        else:\n",
    "            min_es = estimator\n",
    "    return estimator\n",
    "# 3\n",
    "def method_3(number, precision=0.0000001):\n",
    "    estimator = 0.2\n",
    "    while abs(estimator**2 - number) >= precision:\n",
    "        estimator = (estimator + number/estimator)/2\n",
    "    return estimator\n",
    "print(method_3(2))"
   ],
   "metadata": {
    "collapsed": false,
    "pycharm": {
     "name": "#%%\n"
    }
   }
  },
  {
   "cell_type": "markdown",
   "source": [
    "#### 求圆周率"
   ],
   "metadata": {
    "collapsed": false,
    "pycharm": {
     "name": "#%% md\n"
    }
   }
  },
  {
   "cell_type": "code",
   "execution_count": 26,
   "outputs": [
    {
     "name": "stdout",
     "output_type": "stream",
     "text": [
      "3.141591698659554\n",
      "3.1415936535907742\n",
      "3.121489222187065\n"
     ]
    }
   ],
   "source": [
    "# pi^2/6 = 1/1^2 + 1/2^2 + 1/3^2 + ...\n",
    "def pi_1(n):\n",
    "    pi1 = 0\n",
    "    for j in range(1, n):\n",
    "        pi1 += 1/(j**2)\n",
    "    return math.sqrt(6*pi1)\n",
    "# pi/4 = 1/1 - 1/3 + 1/5 - 1/7 + ...\n",
    "def pi_2(n):\n",
    "    pi2 = 0\n",
    "    for j in range(1, n):\n",
    "        pi2 += 1/(2*j-1)*((-1)**(j+1))\n",
    "    return 4*pi2\n",
    "# pi = 3 + 4/(2x3x4) - 4/(4x5x6) + 4/(6x7x8) -  ...\n",
    "def pi_3(n):\n",
    "    pi3 = 3\n",
    "    for j in range(1, n):\n",
    "        pi3 += 4/((j+1)*(j+2)*(j+3))*((-1)**(j+1))\n",
    "    return pi3\n",
    "print(pi_1(1000000))\n",
    "print(pi_2(1000000))\n",
    "print(pi_3(10000000))"
   ],
   "metadata": {
    "collapsed": false,
    "pycharm": {
     "name": "#%%\n"
    }
   }
  },
  {
   "cell_type": "code",
   "execution_count": null,
   "outputs": [],
   "source": [],
   "metadata": {
    "collapsed": false,
    "pycharm": {
     "name": "#%%\n"
    }
   }
  }
 ],
 "metadata": {
  "kernelspec": {
   "display_name": "Python 3",
   "language": "python",
   "name": "python3"
  },
  "language_info": {
   "codemirror_mode": {
    "name": "ipython",
    "version": 2
   },
   "file_extension": ".py",
   "mimetype": "text/x-python",
   "name": "python",
   "nbconvert_exporter": "python",
   "pygments_lexer": "ipython2",
   "version": "2.7.6"
  }
 },
 "nbformat": 4,
 "nbformat_minor": 0
}