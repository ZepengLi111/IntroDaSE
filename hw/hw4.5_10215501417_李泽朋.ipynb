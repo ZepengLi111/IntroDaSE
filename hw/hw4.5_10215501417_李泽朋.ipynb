{
 "cells": [
  {
   "cell_type": "markdown",
   "source": [
    "### 实验练习04"
   ],
   "metadata": {
    "collapsed": false,
    "pycharm": {
     "name": "#%% md\n"
    }
   }
  },
  {
   "cell_type": "markdown",
   "source": [
    "**4-1**"
   ],
   "metadata": {
    "collapsed": false,
    "pycharm": {
     "name": "#%% md\n"
    }
   }
  },
  {
   "cell_type": "code",
   "execution_count": 19,
   "outputs": [
    {
     "name": "stdout",
     "output_type": "stream",
     "text": [
      "11001010011110000101011100001100\n"
     ]
    }
   ],
   "source": [
    "def convert_ip(address):\n",
    "    address_list = address.split('.')\n",
    "    ip_list = []\n",
    "    for i in range(4):\n",
    "        bits = []\n",
    "        sub_address = int(address_list[i])\n",
    "        while sub_address != 0:\n",
    "            bits.append(sub_address % 2)\n",
    "            sub_address = int(sub_address / 2)\n",
    "        binary_sub_address = \"0\"*(8-len(bits))\n",
    "        bits.reverse()\n",
    "        bits = [str(i) for i in bits]\n",
    "        binary_sub_address += \"\".join(bits)\n",
    "        ip_list.append(binary_sub_address)\n",
    "    return \"\".join(ip_list)\n",
    "# 测试\n",
    "print(convert_ip(\"202.120.87.12\"))"
   ],
   "metadata": {
    "collapsed": false,
    "pycharm": {
     "name": "#%%\n"
    }
   }
  },
  {
   "cell_type": "markdown",
   "source": [
    "**4-2**"
   ],
   "metadata": {
    "collapsed": false,
    "pycharm": {
     "name": "#%% md\n"
    }
   }
  },
  {
   "cell_type": "code",
   "execution_count": 21,
   "outputs": [
    {
     "name": "stdout",
     "output_type": "stream",
     "text": [
      "1\n",
      "Queue is empty\n",
      "None\n",
      "------------------\n",
      "5\n",
      "9\n",
      "9\n",
      "9\n"
     ]
    }
   ],
   "source": [
    "class Queue:\n",
    "    def __init__(self):\n",
    "        self._items = []\n",
    "    def push(self, item):\n",
    "        self._items.append(item)\n",
    "    def pop(self):\n",
    "        if len(self._items) > 0:\n",
    "            return self._items.pop(0)\n",
    "        else:\n",
    "            print(\"Queue is empty\")\n",
    "    def size(self):\n",
    "        return len(self._items)\n",
    "    def is_empty(self):\n",
    "        if len(self._items) == 0:\n",
    "            return True\n",
    "        else:\n",
    "            return False\n",
    "    def head(self):\n",
    "        if len(self._items) > 0:\n",
    "            return self._items[0]\n",
    "        else:\n",
    "            print(\"Queue is empty!\")\n",
    "    def tail(self):\n",
    "        if len(self._items) > 0:\n",
    "            return self._items[-1]\n",
    "        else:\n",
    "            print(\"Queue is empty!\")\n",
    "\n",
    "# 测试\n",
    "q = Queue()\n",
    "q.push(1)       # [1]\n",
    "print(q.pop())  # [ ]\n",
    "print(q.pop())  # [ ]\n",
    "\n",
    "print('------------------')\n",
    "\n",
    "q.push(5)\n",
    "q.push(9)       # [5, 9]\n",
    "print(q.head())\n",
    "print(q.tail())\n",
    "q.pop()         # [9]\n",
    "print(q.head())\n",
    "print(q.tail())"
   ],
   "metadata": {
    "collapsed": false,
    "pycharm": {
     "name": "#%%\n"
    }
   }
  },
  {
   "cell_type": "markdown",
   "source": [
    "**4-3**\n",
    "**4-4**"
   ],
   "metadata": {
    "collapsed": false,
    "pycharm": {
     "name": "#%% md\n"
    }
   }
  },
  {
   "cell_type": "code",
   "execution_count": 29,
   "outputs": [
    {
     "name": "stdout",
     "output_type": "stream",
     "text": [
      "3 5 1 6 2 0 8 7 4 \n",
      "---------------------\n",
      "6 0 8 7 4 "
     ]
    }
   ],
   "source": [
    "class BinaryTree:\n",
    "    def __init__(self,data=None,left=None,right=None):  # 如果创建节点对象时left或right参数为空，则默认该节点没有左或右子树\n",
    "        self.data=data\n",
    "        self.left=left\n",
    "        self.right=right\n",
    "    def preorder(self):  # 前序遍历\n",
    "        print(self.data,end=' ')\n",
    "        if self.left != None:\n",
    "            self.left.preorder()\n",
    "        if self.right != None:\n",
    "            self.right.preorder()\n",
    "    def midorder(self):  # 中序遍历\n",
    "        if self.left != None:\n",
    "            self.left.midorder()\n",
    "        print(self.data,end=' ')\n",
    "        if self.right != None:\n",
    "            self.right.midorder()\n",
    "    def postorder(self):  # 后序遍历\n",
    "        if self.left != None:\n",
    "            self.left.preorder()\n",
    "        if self.right != None:\n",
    "            self.right.preorder()\n",
    "        print(self.data,end=' ')\n",
    "    def height(self):\n",
    "        if self.data is None:  # 空的树高度为0, 只有root节点的树高度为1\n",
    "            return 0\n",
    "        elif self.left is None and self.right is None:\n",
    "            return 1\n",
    "        elif self.left is None and self.right is not None:\n",
    "            return 1 + self.right.height()\n",
    "        elif self.left is not None and self.right is None:\n",
    "            return 1 + self.left.height()\n",
    "        else:\n",
    "            return 1 + max(self.left.height(), self.right.height())\n",
    "\n",
    "    # 层序遍历\n",
    "    def layer_order(self):\n",
    "        q = Queue()\n",
    "        q.push(self)\n",
    "        while not q.is_empty():\n",
    "            if q.head().left is not None:\n",
    "                q.push(q.head().left)\n",
    "            if q.head().right is not None:\n",
    "                q.push(q.head().right)\n",
    "            print(q.head().data, end=' ')\n",
    "            q.pop()\n",
    "\n",
    "    # 输出叶子节点\n",
    "    def leaves(self):\n",
    "        q = Queue()\n",
    "        q.push(self)\n",
    "        while not q.is_empty():\n",
    "            flag = []\n",
    "            if q.head().left is not None:\n",
    "                q.push(q.head().left)\n",
    "                flag.append(True)\n",
    "            if q.head().right is not None:\n",
    "                q.push(q.head().right)\n",
    "                flag.append(True)\n",
    "            if len(flag) == 0:\n",
    "                print(q.head().data, end=' ')\n",
    "            q.pop()\n",
    "\n",
    "\n",
    "\n",
    "layer3_2 = BinaryTree(2,BinaryTree(7),BinaryTree(4))\n",
    "layer2_5 = BinaryTree(5,BinaryTree(6),layer3_2)\n",
    "layer2_1 = BinaryTree(1,BinaryTree(0),BinaryTree(8))\n",
    "layer1_3 = BinaryTree(3,layer2_5,layer2_1)\n",
    "# 测试层序遍历\n",
    "layer1_3.layer_order()\n",
    "print('\\n---------------------')\n",
    "# 测试输出叶子节点\n",
    "layer1_3.leaves()\n"
   ],
   "metadata": {
    "collapsed": false,
    "pycharm": {
     "name": "#%%\n"
    }
   }
  },
  {
   "cell_type": "markdown",
   "source": [
    "**4-5**"
   ],
   "metadata": {
    "collapsed": false,
    "pycharm": {
     "name": "#%% md\n"
    }
   }
  },
  {
   "cell_type": "code",
   "execution_count": 31,
   "outputs": [
    {
     "name": "stdout",
     "output_type": "stream",
     "text": [
      "<re.Match object; span=(0, 11), match='13025928558'>\n",
      "<re.Match object; span=(0, 11), match='13417511895'>\n",
      "<re.Match object; span=(0, 11), match='19966538492'>\n"
     ]
    }
   ],
   "source": [
    "import re\n",
    "p = '((13[0-3|5-9]|14[7]|15[0-3|5-9]|18[0-9]|17[2-3|5-8]|19[1|3|8|9])[0-9]{8})|(134[0-8][0-9]{7})'  # 正则表达式\n",
    "# 测试\n",
    "s1 = '13025928558'\n",
    "s2 = '13417511895'\n",
    "s3 = '19966538492'\n",
    "print(re.match(p, s1))\n",
    "print(re.match(p, s2))\n",
    "print(re.match(p, s3))"
   ],
   "metadata": {
    "collapsed": false,
    "pycharm": {
     "name": "#%%\n"
    }
   }
  }
 ],
 "metadata": {
  "kernelspec": {
   "display_name": "Python 3",
   "language": "python",
   "name": "python3"
  },
  "language_info": {
   "codemirror_mode": {
    "name": "ipython",
    "version": 2
   },
   "file_extension": ".py",
   "mimetype": "text/x-python",
   "name": "python",
   "nbconvert_exporter": "python",
   "pygments_lexer": "ipython2",
   "version": "2.7.6"
  }
 },
 "nbformat": 4,
 "nbformat_minor": 0
}